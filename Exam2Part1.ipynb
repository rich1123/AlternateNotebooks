{
  "nbformat": 4,
  "nbformat_minor": 0,
  "metadata": {
    "kernelspec": {
      "display_name": "Python 3",
      "language": "python",
      "name": "python3"
    },
    "language_info": {
      "codemirror_mode": {
        "name": "ipython",
        "version": 3
      },
      "file_extension": ".py",
      "mimetype": "text/x-python",
      "name": "python",
      "nbconvert_exporter": "python",
      "pygments_lexer": "ipython3",
      "version": "3.7.6"
    },
    "colab": {
      "name": "Exam2Part1.ipynb",
      "provenance": [],
      "collapsed_sections": []
    }
  },
  "cells": [
    {
      "cell_type": "markdown",
      "metadata": {
        "id": "7ZY1u1fwTzEG",
        "colab_type": "text"
      },
      "source": [
        "## Part 1: Given an int, repeatedly add its digits until the result is one digit.\n",
        "\n",
        "* [Constraints](#Constraints)\n",
        "* [Test Cases](#Test-Cases)\n",
        "* [Algorithm](#Algorithm)\n",
        "* [Code](#Code)\n",
        "* [Unit Test](#Unit-Test)\n",
        "* [Solution Notebook](#Solution-Notebook)"
      ]
    },
    {
      "cell_type": "markdown",
      "metadata": {
        "id": "GJtpnlXOTzEH",
        "colab_type": "text"
      },
      "source": [
        "## Constraints\n",
        "\n",
        "* Can we assume num is not negative?\n",
        "    * Yes\n",
        "* Can we assume the inputs are valid?\n",
        "    * No\n",
        "* Can we assume this fits memory?\n",
        "    * Yes"
      ]
    },
    {
      "cell_type": "markdown",
      "metadata": {
        "id": "nn1PY94rTzEH",
        "colab_type": "text"
      },
      "source": [
        "## Test Cases\n",
        "\n",
        "<pre>\n",
        "* None input -> TypeError\n",
        "* negative input -> ValueError\n",
        "* 9 -> 9\n",
        "* 138 -> 3\n",
        "* 65536 -> 7\n",
        "</pre>"
      ]
    },
    {
      "cell_type": "markdown",
      "metadata": {
        "id": "nCyEFNpFTzEI",
        "colab_type": "text"
      },
      "source": [
        "## Algorithm\n",
        "\n",
        "The naive solution simply isolates each digit with with modulo and integer division. We'll add each isolated digit to a list and sum the values.\n",
        "\n",
        "- 138 % 10 = 8 -> isolated\n",
        "- 138 // 10 = 13\n",
        "- 13 % 10 = 3 -> isolated\n",
        "- 13 // 10 = 1\n",
        "- 1 % 10 = 1 -> isolated\n",
        "A more optimal solution exists, by recognizing this is a digital root. See the Wikipedia article for more information.\n",
        "\n",
        "Complexity:\n",
        "\n",
        "Time: O(1)\n",
        "Space: O(1)"
      ]
    },
    {
      "cell_type": "markdown",
      "metadata": {
        "id": "r1D9KuMMTzEI",
        "colab_type": "text"
      },
      "source": [
        "## Code"
      ]
    },
    {
      "cell_type": "code",
      "metadata": {
        "id": "0Bx-stSuTzEJ",
        "colab_type": "code",
        "colab": {
          "base_uri": "https://localhost:8080/",
          "height": 130
        },
        "outputId": "f6064559-74df-4973-d7cd-4e36a8ad6e32"
      },
      "source": [
        "class Solution(object):\n",
        "\n",
        "    def add_digits(self, val):\n",
        "        # TODO: Implement me\n",
        "        pass\n",
        "\n",
        "        this is a test\n"
      ],
      "execution_count": 6,
      "outputs": [
        {
          "output_type": "error",
          "ename": "SyntaxError",
          "evalue": "ignored",
          "traceback": [
            "\u001b[0;36m  File \u001b[0;32m\"<ipython-input-7-ba35ff71362e>\"\u001b[0;36m, line \u001b[0;32m7\u001b[0m\n\u001b[0;31m    this is a test\u001b[0m\n\u001b[0m                 ^\u001b[0m\n\u001b[0;31mSyntaxError\u001b[0m\u001b[0;31m:\u001b[0m invalid syntax\n"
          ]
        }
      ]
    },
    {
      "cell_type": "markdown",
      "metadata": {
        "id": "t1HmCmnNTzEM",
        "colab_type": "text"
      },
      "source": [
        "## Unit Test"
      ]
    },
    {
      "cell_type": "markdown",
      "metadata": {
        "id": "AVseSG84TzEN",
        "colab_type": "text"
      },
      "source": [
        "**The following unit test is expected to fail until you solve the challenge.**"
      ]
    },
    {
      "cell_type": "code",
      "metadata": {
        "id": "YPwRjIQnTzEN",
        "colab_type": "code",
        "colab": {}
      },
      "source": [
        "# %load test_add_digits.py\n",
        "from nose.tools import assert_equal, assert_raises\n",
        "\n",
        "\n",
        "class TestAddDigits(object):\n",
        "\n",
        "    def test_add_digits(self, func):\n",
        "        assert_raises(TypeError, func, None)\n",
        "        assert_raises(ValueError, func, -1)\n",
        "        assert_equal(func(0), 0)\n",
        "        assert_equal(func(9), 9)\n",
        "        assert_equal(func(45), 9)\n",
        "        assert_equal(func(36), 9)\n",
        "        assert_equal(func(63), 9)\n",
        "        assert_equal(func(72), 9)\n",
        "        assert_equal(func(41), 5)\n",
        "        assert_equal(func(138), 3)\n",
        "        assert_equal(func(65536), 7) \n",
        "        assert_equal(func(444), 3) \n",
        "        print('Success: test_add_digits')\n",
        "\n",
        "\n",
        "def main():\n",
        "    test = TestAddDigits()\n",
        "    solution = Solution()\n",
        "    test.test_add_digits(solution.add_digits)\n",
        "    try:\n",
        "        test.test_add_digits(solution.add_digits_optimized)\n",
        "    except AttributeError:\n",
        "        # Alternate solutions are only defined\n",
        "        # in the solutions file\n",
        "        pass\n",
        "\n",
        "\n",
        "if __name__ == '__main__':\n",
        "    main()"
      ],
      "execution_count": 0,
      "outputs": []
    },
    {
      "cell_type": "code",
      "metadata": {
        "scrolled": true,
        "id": "2o_GTyi1TzER",
        "colab_type": "code",
        "colab": {}
      },
      "source": [
        "# You may need to do this\n",
        "!pip install nose"
      ],
      "execution_count": 0,
      "outputs": []
    }
  ]
}